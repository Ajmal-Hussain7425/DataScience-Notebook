{
 "cells": [
  {
   "cell_type": "markdown",
   "id": "0eeea1a6-0868-4385-90b2-0bfbbab4b5a7",
   "metadata": {},
   "source": [
    "# Data Science Tools and Ecosystem\n"
   ]
  },
  {
   "cell_type": "markdown",
   "id": "628b5c9b-2900-4a96-b662-d7640733aa1c",
   "metadata": {},
   "source": [
    "In this notebook, Data Science Tools and Ecosystem are summarized."
   ]
  },
  {
   "cell_type": "markdown",
   "id": "cb3cf704-7927-4619-a13c-ad62484c87ce",
   "metadata": {},
   "source": [
    "Some of the popular languages that Data Scientists use are:\n",
    "\n",
    "1. Python\n",
    "2. R\n",
    "3. SQL\n",
    "4. Julia\n",
    "5. Scala\n"
   ]
  },
  {
   "cell_type": "markdown",
   "id": "73a4e4d3-563e-48ff-b8bf-568ba29c45de",
   "metadata": {},
   "source": [
    "Some of the commonly used libraries used by Data Scientists include:\n",
    "1. NumPy\n",
    "2. Pandas\n",
    "3. Matplotlib\n",
    "4. Scikit-learn\n",
    "5. TensorFlow\n",
    "6. PyTorch"
   ]
  },
  {
   "cell_type": "markdown",
   "id": "54111102-bd6d-4014-8406-7bde9961efa7",
   "metadata": {},
   "source": [
    "| Data Science Tools        |\n",
    "|---------------------------|\n",
    "| Jupyter Notebook          |\n",
    "| RStudio                   |\n",
    "| Apache Zeppelin           |"
   ]
  },
  {
   "cell_type": "markdown",
   "id": "c63984c2-dc30-4bf3-b15c-c5aa3893ddaa",
   "metadata": {},
   "source": [
    "### Below are a few examples of evaluating arithmetic expressions in Python.\n",
    "\n",
    "1. Addition:  \n",
    "   `5 + 3 = 8`\n",
    "   \n",
    "2. Subtraction:  \n",
    "   `10 - 2 = 8`\n",
    "   \n",
    "3. Multiplication:  \n",
    "   `4 * 6 = 24`\n",
    "   \n",
    "4. Division:  \n",
    "   `20 / 4 = 5.0`\n",
    "   \n",
    "5. Exponentiation:  \n",
    "   `2 ** 3 = 8`\n",
    "   \n",
    "6. Modulus:  \n",
    "   `10 % 3 = 1`\n"
   ]
  },
  {
   "cell_type": "code",
   "execution_count": 3,
   "id": "4a5cc741-a811-4a15-9666-5d730c160827",
   "metadata": {},
   "outputs": [
    {
     "data": {
      "text/plain": [
       "17"
      ]
     },
     "execution_count": 3,
     "metadata": {},
     "output_type": "execute_result"
    }
   ],
   "source": [
    "# This is a simple arithmetic expression to multiply then add integers\n",
    "result = (3 * 4) + 5\n",
    "result"
   ]
  },
  {
   "cell_type": "code",
   "execution_count": 6,
   "id": "640ef00d-006c-4578-8827-8c2a797fc1b9",
   "metadata": {},
   "outputs": [
    {
     "data": {
      "text/plain": [
       "3.3333333333333335"
      ]
     },
     "execution_count": 6,
     "metadata": {},
     "output_type": "execute_result"
    }
   ],
   "source": [
    "# This will convert 200 minutes to hours by diving by 60.\n",
    "hours= 200/60\n",
    "hours"
   ]
  },
  {
   "cell_type": "markdown",
   "id": "4f03bf7b-d4eb-4838-bdf6-d1eb83d949d4",
   "metadata": {},
   "source": [
    "**Objectives:**\n",
    "\n",
    "- List popular languages for Data Science.\n",
    "- List commonly used libraries in Data Science.\n",
    "- Introduce arithmetic expressions in Python.\n",
    "- Convert minutes to hours in Python.\n",
    "- Evaluate simple arithmetic expressions in Python."
   ]
  },
  {
   "cell_type": "markdown",
   "id": "2cc74bb3-4753-42c8-a297-e53b8380e104",
   "metadata": {},
   "source": [
    "## Author\n",
    "Ajmal Hussain"
   ]
  }
 ],
 "metadata": {
  "kernelspec": {
   "display_name": "Python 3 (ipykernel)",
   "language": "python",
   "name": "python3"
  },
  "language_info": {
   "codemirror_mode": {
    "name": "ipython",
    "version": 3
   },
   "file_extension": ".py",
   "mimetype": "text/x-python",
   "name": "python",
   "nbconvert_exporter": "python",
   "pygments_lexer": "ipython3",
   "version": "3.12.7"
  }
 },
 "nbformat": 4,
 "nbformat_minor": 5
}
